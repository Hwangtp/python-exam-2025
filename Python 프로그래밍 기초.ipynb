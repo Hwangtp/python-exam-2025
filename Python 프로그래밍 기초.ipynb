{
 "cells": [
  {
   "cell_type": "markdown",
   "id": "ef943eb1-5ca6-496b-a39e-30b3584f819d",
   "metadata": {},
   "source": [
    "# Python 프로그래밍 평가\n",
    "> NCS 소분류 : [200102] 정보기술개발<br>\n",
    "> 평가방법 : 기타 작업형<br>\n",
    "> 평가일시 : 2025-10-22<br>\n",
    "> 시험시간 : 120분<br>\n",
    "> ★★ 작업 후 해당 파일을 lovesome99@naver.com 으로 첨부하여 제출할것 ★★<br>"
   ]
  },
  {
   "cell_type": "code",
   "execution_count": null,
   "id": "04b073c1-0e1d-4605-8030-377ca538e53e",
   "metadata": {},
   "outputs": [],
   "source": [
    "# [문제1] 변수 product에 '스마트 센서'를, price에 45000을 저장한 후, \n",
    "#         \"제품명: 스마트 센서, 가격: 45,000원\" 형식으로 출력하는 코드를 작성하세요."
   ]
  },
  {
   "cell_type": "code",
   "execution_count": null,
   "id": "8655da0b-6740-4712-b246-92480219f40a",
   "metadata": {},
   "outputs": [],
   "source": []
  },
  {
   "cell_type": "code",
   "execution_count": null,
   "id": "3d20711c-d967-40e6-bcbe-218c3c21b018",
   "metadata": {},
   "outputs": [],
   "source": [
    "# [문제2] members = ['철수', '민수', '영희', '지민'] 리스트에서 '영희'를 제거하고 \n",
    "#         새로운 이름 '수현'을 리스트 맨 뒤에 추가한 후, 최종 리스트를 출력하세요."
   ]
  },
  {
   "cell_type": "code",
   "execution_count": null,
   "id": "c947af7d-2552-49e8-9bed-5d37741c822b",
   "metadata": {},
   "outputs": [],
   "source": []
  },
  {
   "cell_type": "code",
   "execution_count": null,
   "id": "cd171e47-bdfa-4815-bd21-271c73c574ee",
   "metadata": {},
   "outputs": [],
   "source": [
    "# [문제3] 변수 temp = 18을 설정하고, temp가 20도 미만이면 \"난방을 시작합니다\", 20도 이상이면 \"적정 온도입니다\"를 \n",
    "#         출력하는 코드를 작성하세요."
   ]
  },
  {
   "cell_type": "code",
   "execution_count": null,
   "id": "b0ff4ac8-aafb-42bc-b8a8-64d52cefc73c",
   "metadata": {},
   "outputs": [],
   "source": []
  },
  {
   "cell_type": "code",
   "execution_count": null,
   "id": "1f13930d-c2dd-4762-b594-bd5554ca3397",
   "metadata": {},
   "outputs": [],
   "source": [
    "# [문제4] 1부터 10까지의 정수 중 홀수의 합계를 계산하고 그 결과를 출력하는 for 반복문을 작성하세요."
   ]
  },
  {
   "cell_type": "code",
   "execution_count": null,
   "id": "21958393-7af8-4a07-b1d5-7083c06bf7fb",
   "metadata": {},
   "outputs": [],
   "source": []
  },
  {
   "cell_type": "code",
   "execution_count": null,
   "id": "6e9649bd-ac80-4bdd-a72a-f20a9b75107f",
   "metadata": {},
   "outputs": [],
   "source": [
    "# [문제5] 반지름을 인수로 받아 원의 넓이(πr2)를 반환하는 calculate_area(radius) 함수를 정의하고, \n",
    "#        반지름이 5일 때의 넓이(파이 값은 3.14로 가정)를 출력하세요."
   ]
  },
  {
   "cell_type": "code",
   "execution_count": null,
   "id": "c4143676-d4c1-4966-9e9a-830229afa249",
   "metadata": {},
   "outputs": [],
   "source": []
  },
  {
   "cell_type": "code",
   "execution_count": null,
   "id": "5d4ac909-a26a-4cd7-b82a-a86dd70dbe58",
   "metadata": {},
   "outputs": [],
   "source": [
    "# [문제6] log.txt 파일을 생성하고, 파일 내부에 \"시스템 시작\" 문자열을 저장한 후 파일을 닫는 코드를 작성하세요."
   ]
  },
  {
   "cell_type": "code",
   "execution_count": null,
   "id": "3b7587ad-c4f7-4eb2-9d03-2ea396ff69d6",
   "metadata": {},
   "outputs": [],
   "source": []
  },
  {
   "cell_type": "code",
   "execution_count": null,
   "id": "440ec0ca-31c1-4104-9202-879a03b7821f",
   "metadata": {},
   "outputs": [],
   "source": [
    "# [문제7] 리스트 data = ['A001', 'A005', 'A003']에서 'A005'가 포함되어 있는지 \n",
    "#         in 연산자를 사용하여 확인하고 그 결과를 출력하세요.(포함하면 True, 아니면 False 출력)"
   ]
  },
  {
   "cell_type": "code",
   "execution_count": null,
   "id": "0667d24b-9448-4969-87a8-eb0f185060d9",
   "metadata": {},
   "outputs": [],
   "source": []
  },
  {
   "cell_type": "code",
   "execution_count": null,
   "id": "cf7fac39-ade8-4b05-8f51-0902a53e3e10",
   "metadata": {},
   "outputs": [],
   "source": [
    "# [문제8] 리스트 scores = [90, 65, 80]를 생성하고, 리스트의 내장 .sort() 메서드를 사용하여 요소를 오름차순으로 정렬한 후 출력하세요"
   ]
  },
  {
   "cell_type": "code",
   "execution_count": null,
   "id": "d76c9d01-c857-4dce-8d88-7029b4100b26",
   "metadata": {},
   "outputs": [],
   "source": []
  },
  {
   "cell_type": "code",
   "execution_count": null,
   "id": "5688e15e-29be-439f-9dc3-b8e74ab02da4",
   "metadata": {},
   "outputs": [],
   "source": [
    "# [문제9] 딕셔너리 connections = {'A': ['B', 'C'], 'B': ['A']}에서 노드 'A'와 연결된 모든 노드를 출력하는 코드를 작성하세요."
   ]
  },
  {
   "cell_type": "code",
   "execution_count": null,
   "id": "b1b23518-75dd-4a4b-86f3-fbc6f4fa4869",
   "metadata": {},
   "outputs": [],
   "source": []
  },
  {
   "cell_type": "code",
   "execution_count": null,
   "id": "c56237a0-6474-419f-ad57-fce7aa495b0a",
   "metadata": {},
   "outputs": [],
   "source": [
    "# [문제10] 딕셔너리 traffic = {'서울': 100, '부산': 50}에서 '서울'의 값을 출력하세요."
   ]
  },
  {
   "cell_type": "code",
   "execution_count": null,
   "id": "3371fc26-321f-4569-a786-d9f249b8b533",
   "metadata": {},
   "outputs": [],
   "source": []
  },
  {
   "cell_type": "code",
   "execution_count": null,
   "id": "274ddd9b-b7d7-4a0b-8732-b74bb0ad1b46",
   "metadata": {},
   "outputs": [],
   "source": [
    "# [문제11] try-except 구문을 사용하여 문자열 'error'를 정수로 변환하려 할 때, \"데이터 형식이 잘못되었습니다.\"를 출력하도록 처리하세요."
   ]
  },
  {
   "cell_type": "code",
   "execution_count": null,
   "id": "72ff9c26-1e09-4c64-ac61-0572e39e3748",
   "metadata": {},
   "outputs": [],
   "source": []
  },
  {
   "cell_type": "code",
   "execution_count": null,
   "id": "b3113d9f-19f0-4a5b-ae1b-cb096e77c6e0",
   "metadata": {},
   "outputs": [],
   "source": [
    "# [문제12] 프로젝트 파일 다운로드를 위해 Git에서 가장 일반적으로 사용하는 명령어를 \n",
    "#          변수 git_command에 문자열로 저장하고 출력하세요.(저장소는 자신의 깃 저장소를 넣을 것)"
   ]
  },
  {
   "cell_type": "code",
   "execution_count": null,
   "id": "0d9a1343-7451-4766-9808-5c50e834ee05",
   "metadata": {},
   "outputs": [],
   "source": []
  },
  {
   "cell_type": "code",
   "execution_count": null,
   "id": "265b115f-b35e-4548-b886-fc8e534ec7c8",
   "metadata": {},
   "outputs": [],
   "source": [
    "# [문제13] 키는 'A', 'B', 'C', 값은 [10, 20, 30]인 딕셔너리를 사용하여 Pandas DataFrame df를 생성하고, df의 모든 컬럼 이름을 출력하세요."
   ]
  },
  {
   "cell_type": "code",
   "execution_count": null,
   "id": "19624195-bd2b-4e4b-a6a2-d20b4bfd901f",
   "metadata": {},
   "outputs": [],
   "source": []
  },
  {
   "cell_type": "code",
   "execution_count": null,
   "id": "49793e6d-db48-4e92-bde7-051fe4ab2b63",
   "metadata": {},
   "outputs": [],
   "source": [
    "# [문제14] 다음 DataFrame df에서 'Traffic' 값이 100 초과인 행만 필터링하여 출력하세요. \n",
    "#          (data = {'Region': ['S', 'B'], 'Traffic': [95, 120]})"
   ]
  },
  {
   "cell_type": "code",
   "execution_count": null,
   "id": "6b627696-d56c-41b0-963e-4df1285c7f16",
   "metadata": {},
   "outputs": [],
   "source": []
  },
  {
   "cell_type": "code",
   "execution_count": null,
   "id": "3f4bd3ea-6056-43b7-a741-1c5d43278825",
   "metadata": {},
   "outputs": [],
   "source": [
    "# [문제15] 다음 DataFrame df에서 '점수' 컬럼의 최댓값과 최솟값을 각각 출력하는 코드를 작성하세요. \n",
    "#          (data = {'과목': ['M', 'E'], '점수': [85, 92]})"
   ]
  },
  {
   "cell_type": "code",
   "execution_count": null,
   "id": "87ae892c-42e0-4e89-ba7c-41fe41fc598f",
   "metadata": {},
   "outputs": [],
   "source": []
  },
  {
   "cell_type": "code",
   "execution_count": null,
   "id": "bc2ad222-c234-4810-829c-0945b3d09222",
   "metadata": {},
   "outputs": [],
   "source": [
    "# [문제16] Pandas Series s = pd.Series([5, 8, 3])를 생성하고, \n",
    "#          Matplotlib을 사용하여 선 그래프를 생성한 후 line_plot.png 파일로 저장하세요."
   ]
  },
  {
   "cell_type": "code",
   "execution_count": null,
   "id": "cc81f7b6-3398-4fb4-9c98-14b0e325b800",
   "metadata": {},
   "outputs": [],
   "source": []
  },
  {
   "cell_type": "code",
   "execution_count": null,
   "id": "b600dbe6-8eeb-447b-85d6-ed9323823971",
   "metadata": {},
   "outputs": [],
   "source": [
    "# [문제17] math 모듈을 임포트하여 숫자 9의 제곱근을 계산하고 출력하는 코드를 작성하세요."
   ]
  },
  {
   "cell_type": "code",
   "execution_count": null,
   "id": "77a2dfd5-b75b-46ca-be83-7ccd1443dcf4",
   "metadata": {},
   "outputs": [],
   "source": []
  },
  {
   "cell_type": "code",
   "execution_count": null,
   "id": "f84e0d34-f0dd-4b3e-95d9-6bc72d0abff7",
   "metadata": {},
   "outputs": [],
   "source": [
    "# [문제18] 숫자 1부터 5까지의 정수를 각각 제곱한 값을 포함하는 새로운 리스트를 \n",
    "#          리스트 컴프리헨션을 사용하여 생성하고 출력하세요."
   ]
  },
  {
   "cell_type": "code",
   "execution_count": null,
   "id": "3be91f4e-e891-423c-8030-442a3f1eaa37",
   "metadata": {},
   "outputs": [],
   "source": []
  },
  {
   "cell_type": "code",
   "execution_count": null,
   "id": "5421b433-ad92-4f14-9b92-1e76774b58d8",
   "metadata": {},
   "outputs": [],
   "source": [
    "# [문제19] 다음 DataFrame df에서 온도가 50 초과이거나 10 미만인 행(이상치)을 찾아 \n",
    "#          해당 행의 'Sensor' 값만 출력하는 코드를 작성하세요. \n",
    "#          (data = {'Sensor': ['A', 'B', 'C'], 'Temp': [25, 60, 5]})"
   ]
  },
  {
   "cell_type": "code",
   "execution_count": null,
   "id": "76a4fa3b-a93c-4030-a7f2-12298fe2ad69",
   "metadata": {},
   "outputs": [],
   "source": []
  },
  {
   "cell_type": "code",
   "execution_count": null,
   "id": "0c8298b1-1431-4004-8808-5c443477d4e8",
   "metadata": {},
   "outputs": [],
   "source": [
    "# [문제20] 다음 DataFrame df의 '교통량' 컬럼 데이터를 사용하여 선 그래프를 그리세요. \n",
    "#          이때, 그래프에 제목을 'Daily Traffic Trend'로 지정하고, 빨간색 점선으로 표시되도록 설정한 후, \n",
    "#          traffic_trend.png 파일로 저장하세요."
   ]
  },
  {
   "cell_type": "code",
   "execution_count": null,
   "id": "6548752c-6db6-4ac1-9371-0242367c2b81",
   "metadata": {},
   "outputs": [],
   "source": []
  },
  {
   "cell_type": "code",
   "execution_count": null,
   "id": "0620e944-fe93-4514-b902-92bd963690f1",
   "metadata": {},
   "outputs": [],
   "source": [
    "# [문제21] show_menu() 함수를 완성하여 사용자가 메뉴를 선택하고, 총 가격을 계산하며, 주문을 종료할 수 있도록 기능을 추가하세요."
   ]
  },
  {
   "cell_type": "code",
   "execution_count": null,
   "id": "df216f5b-f260-4448-9372-11c848c029d7",
   "metadata": {},
   "outputs": [],
   "source": [
    "MENU = {\n",
    "    1: {\"name\": \"스테이크\", \"price\": 45000},\n",
    "    2: {\"name\": \"파스타\", \"price\": 28000},\n",
    "    3: {\"name\": \"샐러드\", \"price\": 15000},\n",
    "    0: {\"name\": \"주문 종료\", \"price\": 0}\n",
    "}\n",
    "def show_menu():\n",
    "    \"\"\"\n",
    "    메뉴를 출력하고, 사용자가 메뉴 번호를 입력하면 \n",
    "    해당 메뉴를 주문 목록에 추가하며, 0을 입력하면 주문을 종료하고 총 가격을 출력합니다.\n",
    "    \"\"\"\n",
    "    order_list = []\n",
    "    total_price = 0\n",
    "    while True:\n",
    "        print(\"\\n--- 메뉴판 ---\")\n",
    "        for num, item in MENU.items():\n",
    "            print(f\"{num}. {item['name']} ({item['price']}원)\")\n",
    "        print(\"-\" * 15)\n",
    "        \n",
    "        try:\n",
    "            choice = int(input(\"메뉴 번호를 입력하세요 (주문 종료: 0): \"))\n",
    "        except ValueError:\n",
    "            print('잘못된 입력입니다. 숫자를 입력해 주세요.')\n",
    "            continue\n",
    "        if choice == 0:\n",
    "            break\n",
    "        \n",
    "        if choice in MENU:\n",
    "            selected_item = MENU[choice]\n",
    "            order_list.append(selected_item['name'])\n",
    "            \n",
    "            # ---------------------\n",
    "            # [코드 작성] \n",
    "            # ---------------------\n",
    "            \n",
    "            print(f\" {selected_item['name']}가 추가되었습니다. 현재 총액: {total_price}원\")\n",
    "        else:\n",
    "            print('메뉴 번호를 다시 확인해 주세요.')\n",
    "        \n",
    "        \n",
    "    # 주문 종료 시 최종 결과 출력\n",
    "    print(\"\\n\\n=== 최종 주문 내역 ===\")\n",
    "    if order_list:\n",
    "        print(f'주문하신 메뉴: {', '.join(order_list)}')\n",
    "        print(f'최종 결제 금액: {total_price}원')\n",
    "    else:\n",
    "        print(\"주문된 메뉴가 없습니다.\")\n",
    "    print(\"감사합니다.\")\n",
    "# 함수 실행\n",
    "if __name__ == \"__main__\":\n",
    "    show_menu()"
   ]
  },
  {
   "cell_type": "code",
   "execution_count": null,
   "id": "55365cc5-62d8-4bce-af7d-5e84863883b9",
   "metadata": {},
   "outputs": [],
   "source": []
  },
  {
   "cell_type": "code",
   "execution_count": null,
   "id": "d2f3bc56-1561-477c-9eba-afaa4a86994f",
   "metadata": {},
   "outputs": [],
   "source": []
  },
  {
   "cell_type": "code",
   "execution_count": null,
   "id": "4f8414fa-b822-44e3-9fbf-4a5552c6c9ae",
   "metadata": {},
   "outputs": [],
   "source": []
  },
  {
   "cell_type": "code",
   "execution_count": null,
   "id": "ab9a1b25-3b60-4488-8d98-66ef7b10fb5b",
   "metadata": {},
   "outputs": [],
   "source": []
  },
  {
   "cell_type": "code",
   "execution_count": null,
   "id": "d2e2a951-38ec-455b-b754-0ad058330356",
   "metadata": {},
   "outputs": [],
   "source": []
  },
  {
   "cell_type": "code",
   "execution_count": null,
   "id": "8fc4b0f7-0069-487f-a92d-a9bfb3b996a4",
   "metadata": {},
   "outputs": [],
   "source": []
  },
  {
   "cell_type": "code",
   "execution_count": null,
   "id": "69f9a6d3-6813-43de-bcb8-bc37c5a54270",
   "metadata": {},
   "outputs": [],
   "source": []
  },
  {
   "cell_type": "code",
   "execution_count": null,
   "id": "67ea385e-8183-4e29-ad1a-8d6f577324b2",
   "metadata": {},
   "outputs": [],
   "source": []
  },
  {
   "cell_type": "code",
   "execution_count": null,
   "id": "46536ebb-c3cb-4976-97a2-edf53ffaa9a5",
   "metadata": {},
   "outputs": [],
   "source": []
  },
  {
   "cell_type": "code",
   "execution_count": null,
   "id": "facf1b76-f9b7-4384-9905-122e119e1e54",
   "metadata": {},
   "outputs": [],
   "source": []
  },
  {
   "cell_type": "code",
   "execution_count": null,
   "id": "65a58c7f-2c51-46b2-a629-75951fce0c4b",
   "metadata": {},
   "outputs": [],
   "source": []
  },
  {
   "cell_type": "code",
   "execution_count": null,
   "id": "ecafc2be-d2d0-4904-965c-884951ae7d75",
   "metadata": {},
   "outputs": [],
   "source": []
  },
  {
   "cell_type": "code",
   "execution_count": null,
   "id": "8a7e1636-df74-4bdb-859b-29757394c957",
   "metadata": {},
   "outputs": [],
   "source": []
  },
  {
   "cell_type": "code",
   "execution_count": null,
   "id": "036d021f-925b-4f00-b383-cb916fd5875a",
   "metadata": {},
   "outputs": [],
   "source": []
  },
  {
   "cell_type": "code",
   "execution_count": null,
   "id": "94fee6ba-7e03-423b-b0d7-13c0ba32a719",
   "metadata": {},
   "outputs": [],
   "source": []
  },
  {
   "cell_type": "code",
   "execution_count": null,
   "id": "0fca3042-0b74-498b-9385-a1d5234559de",
   "metadata": {},
   "outputs": [],
   "source": []
  },
  {
   "cell_type": "code",
   "execution_count": null,
   "id": "0cd4465d-b662-41e1-8722-546726c52804",
   "metadata": {},
   "outputs": [],
   "source": []
  },
  {
   "cell_type": "code",
   "execution_count": null,
   "id": "0fd3e172-4737-40a1-95d5-b0966f698eb1",
   "metadata": {},
   "outputs": [],
   "source": []
  },
  {
   "cell_type": "code",
   "execution_count": null,
   "id": "47d5c174-0884-40ae-9118-231e79413d32",
   "metadata": {},
   "outputs": [],
   "source": []
  },
  {
   "cell_type": "code",
   "execution_count": null,
   "id": "3cc29fba-e08a-4728-b9c8-32ffd3eda453",
   "metadata": {},
   "outputs": [],
   "source": []
  },
  {
   "cell_type": "code",
   "execution_count": null,
   "id": "b8b4a961-9f21-406d-a479-64c860a6d9c4",
   "metadata": {},
   "outputs": [],
   "source": []
  },
  {
   "cell_type": "code",
   "execution_count": null,
   "id": "f4aa3508-1e3f-499a-a0fc-2b10e60f4e80",
   "metadata": {},
   "outputs": [],
   "source": []
  },
  {
   "cell_type": "code",
   "execution_count": null,
   "id": "8891d7fa-a59a-45ba-a973-03467528ebea",
   "metadata": {},
   "outputs": [],
   "source": []
  },
  {
   "cell_type": "code",
   "execution_count": null,
   "id": "d95e9881-dc87-4e74-b7ec-6cb8896d8912",
   "metadata": {},
   "outputs": [],
   "source": []
  },
  {
   "cell_type": "code",
   "execution_count": null,
   "id": "954616fc-1e38-4861-acea-d641c02b7c31",
   "metadata": {},
   "outputs": [],
   "source": []
  },
  {
   "cell_type": "code",
   "execution_count": null,
   "id": "185a2ebb-2814-48f5-b3de-d6ce3d448bbd",
   "metadata": {},
   "outputs": [],
   "source": []
  },
  {
   "cell_type": "code",
   "execution_count": null,
   "id": "8e01f4d4-b7fc-4ddd-982d-d11fa2a5b70b",
   "metadata": {},
   "outputs": [],
   "source": []
  },
  {
   "cell_type": "code",
   "execution_count": null,
   "id": "b205dada-041e-4fc3-942a-e0e16d9c321d",
   "metadata": {},
   "outputs": [],
   "source": []
  },
  {
   "cell_type": "code",
   "execution_count": null,
   "id": "f924c1fd-81f0-4313-99a6-633190d74782",
   "metadata": {},
   "outputs": [],
   "source": []
  },
  {
   "cell_type": "code",
   "execution_count": null,
   "id": "b6d844d4-aa69-475e-b3c1-566ec319e6d2",
   "metadata": {},
   "outputs": [],
   "source": []
  },
  {
   "cell_type": "code",
   "execution_count": null,
   "id": "fee32bdc-529b-45b7-bc60-849c325b5d33",
   "metadata": {},
   "outputs": [],
   "source": []
  },
  {
   "cell_type": "code",
   "execution_count": null,
   "id": "6317005b-2f5a-49c3-803d-0e5b21515c31",
   "metadata": {},
   "outputs": [],
   "source": []
  },
  {
   "cell_type": "code",
   "execution_count": null,
   "id": "9d254c28-70f0-4919-b329-738a2eefef06",
   "metadata": {},
   "outputs": [],
   "source": []
  },
  {
   "cell_type": "code",
   "execution_count": null,
   "id": "da57a20c-8db9-445c-a47b-26e62c1e8331",
   "metadata": {},
   "outputs": [],
   "source": []
  },
  {
   "cell_type": "code",
   "execution_count": null,
   "id": "249638c5-ca24-4073-ba57-e7d362a25e10",
   "metadata": {},
   "outputs": [],
   "source": []
  },
  {
   "cell_type": "code",
   "execution_count": null,
   "id": "0c0db068-4d9b-4c91-b6f6-f2cc8440f95c",
   "metadata": {},
   "outputs": [],
   "source": []
  },
  {
   "cell_type": "code",
   "execution_count": null,
   "id": "939f89c8-c111-409f-bfbd-8e943928a8c4",
   "metadata": {},
   "outputs": [],
   "source": []
  }
 ],
 "metadata": {
  "kernelspec": {
   "display_name": "Python [conda env:base] *",
   "language": "python",
   "name": "conda-base-py"
  },
  "language_info": {
   "codemirror_mode": {
    "name": "ipython",
    "version": 3
   },
   "file_extension": ".py",
   "mimetype": "text/x-python",
   "name": "python",
   "nbconvert_exporter": "python",
   "pygments_lexer": "ipython3",
   "version": "3.13.5"
  }
 },
 "nbformat": 4,
 "nbformat_minor": 5
}
